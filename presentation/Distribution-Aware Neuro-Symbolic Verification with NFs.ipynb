{
 "cells": [
  {
   "cell_type": "code",
   "execution_count": 24,
   "id": "592d62af",
   "metadata": {
    "slideshow": {
     "slide_type": "skip"
    }
   },
   "outputs": [
    {
     "data": {
      "text/html": [
       "<style>.column {\n",
       "    float: left;\n",
       "    width: 50%;\n",
       "  }\n",
       "  \n",
       "/* Clear floats after the columns */\n",
       ".row:after {\n",
       "content: \"\";\n",
       "display: table;\n",
       "clear: both;\n",
       "}\n",
       "\n",
       "\n",
       "  /*\n",
       "This file is mainly copy-pasta from rise's examples\n",
       "https://github.com/damianavila/RISE/blob/master/examples/rise.css\n",
       "that was further customized for appliedAI purposes\n",
       "*/\n",
       "@import url('https://fonts.googleapis.com/css2?family=Work+Sans:wght@400&display=swap');\n",
       "\n",
       "\n",
       "body {\n",
       "    font-family: 'Work Sans', sans-serif !important;\n",
       "    text-transform: initial !important;\n",
       "    letter-spacing: initial !important;\n",
       "    font-weight: 400 !important;\n",
       "    line-height: 1.5 !important;\n",
       "    text-size-adjust: 100% !important;\n",
       "    ‑webkit‑text‑size‑adjust: 100% !important;\n",
       "}\n",
       "\n",
       "\n",
       ".reveal, .md-slide, .sidebar-wrapper {\n",
       "    font-size: 1.5rem !important;\n",
       "}\n",
       "\n",
       ".navbar-default .navbar-nav > li > a {\n",
       "    color: #00747b !important;\n",
       "}\n",
       "\n",
       ".filename {\n",
       "    font-size: 2.4rem !important;\n",
       "    color: #212529 !important;\n",
       "    font-weight: 600 !important;\n",
       "}\n",
       "\n",
       "div.text_cell_render {\n",
       "    font-size: 3rem !important;\n",
       "    line-height: 1.5 !important;\n",
       "}\n",
       "\n",
       ".reveal, .md-slide {\n",
       "    color: white !important;\n",
       "    font-size: 1.5rem !important;\n",
       "}\n",
       "\n",
       "h1 {\n",
       "    position:fixed;\n",
       "    top: 25px;\n",
       "    color: #00747b !important;\n",
       "    font-size: 200%;\n",
       "}\n",
       "h2 {\n",
       "    color: #00747b !important;\n",
       "}\n",
       "\n",
       "h3, h4, h5, h6 {\n",
       "    color: #808080 !important;\n",
       "}\n",
       "\n",
       ".reveal p, .reveal ol, .reveal dl, .reveal ul,\n",
       "div.text_cell_render {\n",
       "    color: #212529 !important;\n",
       "}\n",
       "\n",
       "/*copied from stackoverflow, better spacing between list items*/\n",
       "li + li {\n",
       "  margin-top: 0.2em;\n",
       "}\n",
       "\n",
       "body.rise-enabled .reveal ol, body.rise-enabled .reveal dl, body.rise-enabled .reveal ul {\n",
       "    margin-left: 0.1em;\n",
       "    margin-top: 0.2em;\n",
       "}\n",
       "\n",
       ".reveal .rendered_html h1:first-child,\n",
       ".reveal .rendered_html h2:first-child,\n",
       ".reveal .rendered_html h3:first-child,\n",
       ".reveal .rendered_html h4:first-child,\n",
       ".reveal .rendered_html h5:first-child {\n",
       "    margin-top: 0.2em;\n",
       "}\n",
       "\n",
       ".CodeMirror-lines, .output_text {\n",
       "    font-size: 1.5rem !important;\n",
       "}\n",
       "\n",
       "\n",
       "h1.plan, h2.plan, h3.plan {\n",
       "    text-align: center;\n",
       "    padding-bottom: 30px;\n",
       "}\n",
       "\n",
       "ul.plan>li>span.plan-bold {\n",
       "    font-size: 110%;\n",
       "    padding: 4px;\n",
       "    font-weight: bold;\n",
       "    background-color: #eee;\n",
       "}\n",
       "\n",
       "ul.plan>li>ul.subplan>li>span.plan-bold {\n",
       "    font-weight: bold;\n",
       "}\n",
       "\n",
       ".plan-strike {\n",
       "    opacity: 0.4;\n",
       "/*    text-decoration: line-through; */\n",
       "}\n",
       "\n",
       "div.plan-container {\n",
       "    display: grid;\n",
       "    grid-template-columns: 50% 50%;\n",
       "}\n",
       "\n",
       "/*\n",
       " * this is to void xarray's html output to show the fallback textual representation\n",
       " * see also\n",
       "   * xarray.md and\n",
       "   * https://github.com/damianavila/RISE/issues/594\n",
       " */\n",
       ".reveal pre.xr-text-repr-fallback {\n",
       "    display: none;\n",
       "}\n",
       "\n",
       "#toc-header, .toc-item li {\n",
       "    margin: auto !important;\n",
       "    color: #808080 !important;\n",
       "}\n",
       "\n",
       "#toc, #toc-wrapper, .toc-item-num, #toc a, .toc {\n",
       "    margin: auto !important;\n",
       "    color: #00747b !important;\n",
       "}\n",
       "\n",
       "#toc-wrapper {\n",
       "    top: auto !important;\n",
       "    bottom: auto !important;\n",
       "    margin-top: 2rem !important;\n",
       "    color: #00747b !important;\n",
       "}\n",
       "\n",
       "\n",
       "#rise-header {\n",
       "    margin: 10px;\n",
       "    left: 5%;\n",
       "}\n",
       "\n",
       "#rise-footer {\n",
       "    margin: 10px;\n",
       "    right: 5%;\n",
       "}\n",
       "\n",
       "#rise-backimage {\n",
       "    opacity: 0.70;\n",
       "}\n",
       "\n",
       ".reveal img {\n",
       "    max-width: 100%;\n",
       "    top: -50%;\n",
       "}\n",
       "\n",
       "\n",
       ".md-slide.title {\n",
       "  position: relative;\n",
       "  top: -50%;\n",
       "  margin-left: 5%;\n",
       "}\n",
       "  </style>"
      ],
      "text/plain": [
       "<IPython.core.display.HTML object>"
      ]
     },
     "execution_count": 24,
     "metadata": {},
     "output_type": "execute_result"
    }
   ],
   "source": [
    "# Styling notebook\n",
    "from IPython.core.display import HTML\n",
    "style_file = \"tfl-style.css\"\n",
    "with open(style_file, \"r\") as f:\n",
    "    styles = f.read()\n",
    "HTML(f\"<style>{styles}</style>\")"
   ]
  },
  {
   "cell_type": "markdown",
   "id": "94d10f45",
   "metadata": {
    "slideshow": {
     "slide_type": "slide"
    }
   },
   "source": [
    "# Regulations, Risks and Certifications\n",
    "- Parlarments are incresingly regulating AI applications, especially high-risk scenarios.\n",
    "- AI is increasingly adopted into production by the industr \n",
    "    \n",
    "    $\\Rightarrow$ new roles and process for the certification of AI systems need to be installed. \n",
    "<img src=\"./cert-jobs.png\" width=\"50%\"/> "
   ]
  },
  {
   "cell_type": "markdown",
   "id": "6a486093",
   "metadata": {
    "slideshow": {
     "slide_type": "subslide"
    }
   },
   "source": [
    "# Verification \n",
    "\n",
    "<img src=\"./verfication.png\" width=\"80%\"/>"
   ]
  },
  {
   "cell_type": "markdown",
   "id": "1d937ce6",
   "metadata": {
    "slideshow": {
     "slide_type": "subslide"
    }
   },
   "source": [
    "# Applications\n",
    "- Useful if specification on the input domain is feasable, e.g.\n",
    "    - Adverserial robustness under input pertubations \n",
    "    - Fairness\n",
    "\n",
    "## Limitations\n",
    "- Practically infeasable to specify high level safety properties, e.g. \n",
    "- \"A self-driving car will obey the traffic regulations\""
   ]
  },
  {
   "cell_type": "markdown",
   "id": "562e5fb0",
   "metadata": {
    "slideshow": {
     "slide_type": "subslide"
    }
   },
   "source": [
    "# Neuro-Symbolic Approaches\n",
    "- ML systems get increasingly reliable in solving more and more complex tasks.\n",
    "- Adoption into the verification process seems reasonable for well-asessed model.\n",
    "- A neuro-symbolic approaches use trusted reference networks.\n",
    "- They can be referenced in in the specification."
   ]
  },
  {
   "cell_type": "markdown",
   "id": "7e738344",
   "metadata": {
    "slideshow": {
     "slide_type": "subslide"
    }
   },
   "source": [
    "# Neuro-Symbolic Specification\n",
    "\n",
    "<center>\n",
    "    <img src=\"./neuro-symbolic.jpg\" width=\"60%\"/>\n",
    "</center>"
   ]
  },
  {
   "cell_type": "markdown",
   "id": "81bca75c",
   "metadata": {
    "slideshow": {
     "slide_type": "slide"
    }
   },
   "source": [
    "# Distribution-Aware Verification\n",
    "- Meaningful examples of violations e.g. of safety constraints can be very valuable. \n",
    "- However, counterexamples far out in the tail of the input distribution are potentially meaningless.\n",
    "- Classical Verification considers deterministic functions and specifications over the entire domain,\n",
    "\n",
    "  $\\Rightarrow$ Restrict verification to distribution support / center, try to find the most likely counterexamples."
   ]
  },
  {
   "cell_type": "markdown",
   "id": "1db982b5",
   "metadata": {
    "slideshow": {
     "slide_type": "subslide"
    }
   },
   "source": [
    "# Other Applications\n",
    "- Specification based coditional distribution, e.g. for fairness.\n",
    "- (Adverserial) robustness against distribution shift (\"learn to shift).\n",
    "- Analysis of tail behavior\n",
    "- ..."
   ]
  },
  {
   "cell_type": "markdown",
   "id": "35bf27b7",
   "metadata": {
    "slideshow": {
     "slide_type": "slide"
    }
   },
   "source": [
    "# Motivation\n",
    "- Broaden the range of applicability of learned distributions in verification.\n",
    "- Combination of multiple approaches is a standart approach in hard and (partially) software engineering.\n",
    "- Working with the same reference models across different approaches is very desirable for consistency. "
   ]
  },
  {
   "cell_type": "markdown",
   "id": "df82c075",
   "metadata": {
    "slideshow": {
     "slide_type": "slide"
    }
   },
   "source": [
    "\n",
    "# Challenges\n",
    "- Statistical approaches need generative models.\n",
    "- Satisfyability based methods scale best with purely piece-wise affine functions, e.g. ReLu networks.  \n",
    "    - (Scaleability is a general issue of these methods)\n",
    "- Abstract interpretation approches heavily depend on the quality of the approximation of the nonlinearity.\n",
    "    - Also works best with ReLu.\n",
    "- They also need a simple and meaningful intial inputset to propagate."
   ]
  },
  {
   "cell_type": "markdown",
   "id": "d870fd3e",
   "metadata": {
    "slideshow": {
     "slide_type": "subslide"
    }
   },
   "source": [
    "# Tracktable Sampling vs Tracktable Likelyhoods\n",
    "- Latent variable models are the undisputed SOTA in generative and density modelling, e.g.\n",
    "- Variational auto-encoders, normalizing-flows, denoising diffusion models, etc.\n",
    "- All define joint densities $q(y,z) = q(y | z)q(z)$ over the observed variables $Y$ and latent variables $Z$.\n",
    "- Usually easy sampling but computing exact likelihoods $q(x) = \\int q(y,z) dz$ can be challenging."
   ]
  },
  {
   "cell_type": "markdown",
   "id": "321f10a3",
   "metadata": {
    "slideshow": {
     "slide_type": "slide"
    }
   },
   "source": [
    "# Flow Models\n",
    "- Variable tranformation: $X = T(Z)$, where are over $\\mathbb{R}^n$ and $Z\\sim\\mathcal{N}(0, I)$.\n",
    "- $f$ is constructed to be a *diffeomorphism*.\n",
    "- Then $p(x)=\\left|\\mathrm{det}\\frac{\\partial f_{\\theta}}{\\partial f^{-1}(x)} \\right|^{-1}p(f^{-1}(x))$.\n",
    "- Note that bijectivity implies that $X$ and $Y$ have the same dimension.\n",
    "---\n",
    "**Diffeomorphism**\n",
    "\n",
    "Bijection $f$ such that both, $f$ and $f^{-1}$ are differentiable.\n",
    "\n",
    "---"
   ]
  },
  {
   "cell_type": "markdown",
   "id": "4a3c9622",
   "metadata": {
    "slideshow": {
     "slide_type": "subslide"
    }
   },
   "source": [
    "# Flow Training\n",
    "- Minimize KL-divergence, i.e. maximum likelihood training.\n",
    "  \n",
    "  $\\Rightarrow$ Training a density requires only $f^{-1}$ be to efficiently computable since\n",
    "  $\\left|\\mathrm{det}\\frac{\\partial f_{\\theta}}{\\partial f^{-1}(y)} \\right|^{-1} = \\left|\\mathrm{det}\\frac{\\partial f_{\\theta}^{-1}}{\\partial y} \\right|$.\n",
    "  \n",
    "- Bjections in many high-end flow architectures are coputationally hard to invert\n",
    "    $\\Rightarrow$ \"Only\" density estimators.\n",
    "\n",
    "\n"
   ]
  },
  {
   "cell_type": "markdown",
   "id": "d9e12fee",
   "metadata": {
    "slideshow": {
     "slide_type": "subslide"
    }
   },
   "source": [
    "# Coupling Layers\n",
    "\n",
    "<div class=\"row\">\n",
    "  <div class=\"column\">\n",
    "      <ul>\n",
    "          <li>Probably the simples kind of flow layer.</li> \n",
    "        <li>Components of a coupling layer $T$:</li>\n",
    "        <li>$c: \\mathbb{R}^{n} \\to \\mathbb{R}^{n_H}$ given by an aribrary neural-network.</li>\n",
    "        <li>$f: \\mathbb{R}^{1+n_H} \\to \\mathbb{R}$ such that $f(\\cdot, h)$ is a bijection for all fixed $h\\in\\mathbb{R}^{n_H}$.</li> \n",
    "        <li> \n",
    "             $T:\\mathbb{R}^{m+n}\\to \\mathbb{R}^{m+n};{x_t \\choose x_c} \\mapsto {f(x, c(y)) \\choose y}$,\n",
    "          </li> \n",
    "        <ul>\n",
    "          <li>$f$ is applied component-wise to $x$.</li> \n",
    "        </ul>\n",
    "        <li> $x_t$: target variables, $x_c$: conditioning variables</li>\n",
    "      </ul>\n",
    "  </div>\n",
    "  <div class=\"column\">\n",
    "     <img src=\"coupling.svg\" width=\"50%\"/>      \n",
    "  </div>\n",
    "</div>\n",
    "\n"
   ]
  },
  {
   "cell_type": "markdown",
   "id": "f93b4627",
   "metadata": {
    "slideshow": {
     "slide_type": "subslide"
    }
   },
   "source": [
    "# Universality of Flow Models\n",
    "## TODO: Knothe-Rosenblatt rearrangement"
   ]
  },
  {
   "cell_type": "markdown",
   "id": "4a9c46af",
   "metadata": {
    "slideshow": {
     "slide_type": "slide"
    }
   },
   "source": [
    "# A Generative Piece-wise Affine Density Estimator\n",
    "\n",
    "---\n",
    "\n",
    "**Proposition** A Flow"
   ]
  },
  {
   "cell_type": "markdown",
   "id": "f5199602",
   "metadata": {
    "slideshow": {
     "slide_type": "slide"
    }
   },
   "source": [
    "# Beyond Adversial Robustness with Abstract Interpretations?"
   ]
  },
  {
   "cell_type": "markdown",
   "id": "4c6a30ff",
   "metadata": {
    "slideshow": {
     "slide_type": "slide"
    }
   },
   "source": [
    "# Experiments"
   ]
  },
  {
   "cell_type": "markdown",
   "id": "6b47195d",
   "metadata": {
    "slideshow": {
     "slide_type": "slide"
    }
   },
   "source": [
    "# Project Roadmap \n",
    "- Scale up benchmarks \n",
    "- Finish verification experiments \n",
    "    - Technically challenging. \n",
    "    - Verification software for NN is mostly in infantile stages.\n",
    "    - Important constructs mssing, e.g. slicing not supported.\n",
    "    - ...\n",
    "- Give this talk at AISola gather feedback from verification community.\n",
    "- Write paper\n",
    "- Conference Publication\n",
    "\n"
   ]
  },
  {
   "cell_type": "markdown",
   "id": "8140653f",
   "metadata": {
    "slideshow": {
     "slide_type": "slide"
    }
   },
   "source": [
    "# Future Threads of Exploration\n",
    "- Explore application areas, e.g. fairness, robustness under distribution shift, safety, ...\n",
    "- Push scalability of methods.\n",
    "- Explicit support for input distributions in specifications.\n",
    "- Explore alternative ethods of counterexample search:\n",
    "    - Gradient based methods akin to neural style transfer, deep dream, etc.\n",
    "    - Differentiable \"fuzzy\" logics, i.e. non-boolean semantics.\n",
    "- Potenntial topic for dida research collaboration (multimodal generative modelling)"
   ]
  },
  {
   "cell_type": "code",
   "execution_count": null,
   "id": "377f6c1a",
   "metadata": {
    "slideshow": {
     "slide_type": "skip"
    }
   },
   "outputs": [],
   "source": []
  }
 ],
 "metadata": {
  "celltoolbar": "Slideshow",
  "kernelspec": {
   "display_name": "Python 3 (ipykernel)",
   "language": "python",
   "name": "python3"
  },
  "language_info": {
   "codemirror_mode": {
    "name": "ipython",
    "version": 3
   },
   "file_extension": ".py",
   "mimetype": "text/x-python",
   "name": "python",
   "nbconvert_exporter": "python",
   "pygments_lexer": "ipython3",
   "version": "3.11.3"
  }
 },
 "nbformat": 4,
 "nbformat_minor": 5
}
