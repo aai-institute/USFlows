{
 "cells": [
  {
   "cell_type": "code",
   "execution_count": null,
   "id": "5f37303b",
   "metadata": {},
   "outputs": [],
   "source": []
  },
  {
   "cell_type": "markdown",
   "id": "6a486093",
   "metadata": {
    "slideshow": {
     "slide_type": "subslide"
    }
   },
   "source": [
    "# Formal Verification \n",
    "\n",
    "<img src=\"./verfication.png\"/>"
   ]
  },
  {
   "cell_type": "markdown",
   "id": "ca365cf9",
   "metadata": {},
   "source": [
    "# The Zoo of Approaches"
   ]
  },
  {
   "cell_type": "markdown",
   "id": "1d937ce6",
   "metadata": {
    "slideshow": {
     "slide_type": "subslide"
    }
   },
   "source": [
    "# Applications\n",
    "- Useful if specification on the input domain is feasable, e.g.\n",
    "- Adverserial robustness under input pertubations \n",
    "- Certain fairness conditions\n",
    "\n",
    "# Limitations\n",
    "- Practically infeasable to specify high level safety properties, e.g. \n",
    "- \"A self-driving car will obey the traffic regulations\""
   ]
  },
  {
   "cell_type": "markdown",
   "id": "7e738344",
   "metadata": {
    "slideshow": {
     "slide_type": "subslide"
    }
   },
   "source": [
    "# Neuro-Symbolic Specification\n",
    "<center>\n",
    "    <img src=\"./neuro-symbolic.jpg\" width=800/>\n",
    "</center>"
   ]
  },
  {
   "cell_type": "markdown",
   "id": "81bca75c",
   "metadata": {
    "slideshow": {
     "slide_type": "slide"
    }
   },
   "source": [
    "# Application: \"Distribution-Aware\" Verification\n",
    "- Meaningful examples of vioaltions e.g. of safety constraints can be very valuable. \n",
    "- However, counter examples far out in the tail of the input distribution are potentially meaningless.\n",
    "\n",
    "  $\\Rightarrow$ Restrict verification to distribution support / center, try to find the most likely counterexamples."
   ]
  },
  {
   "cell_type": "markdown",
   "id": "d870fd3e",
   "metadata": {
    "slideshow": {
     "slide_type": "subslide"
    }
   },
   "source": [
    "# Generative Modelling and Tracktable Likelyhoods\n",
    "- Latent variable models are the undisputed SOTA in generative modelling, e.g.\n",
    "- Variational auto-encoders, normalizing-flows, denoising diffusion models.\n",
    "- All define joint densities $q(y,z) = q(y | z)q(z)$ over the observed variables $Y$ and latent variables $Z$.\n",
    "- Usually easy sampling but computing exact likelihoods $q(x) = \\int q(y,z) dz$ can be challenging."
   ]
  },
  {
   "cell_type": "markdown",
   "id": "93a6b223",
   "metadata": {
    "slideshow": {
     "slide_type": "subslide"
    }
   },
   "source": [
    "# Reference Distributions and Combined Assesment Strategies\n",
    "- Generative models are useful in test based approches.\n",
    "- Density models sre useful in verification based approaches.\n",
    "- Being able to perform both w.r.t. the same reference distribution is important for consistency."
   ]
  },
  {
   "cell_type": "markdown",
   "id": "321f10a3",
   "metadata": {
    "slideshow": {
     "slide_type": "slide"
    }
   },
   "source": [
    "# Normalizing flows\n",
    "- Variable tranformation: $Y = f_\\theta(Z)$, where are over $\\mathbb{R}^n$ and $Z\\sim\\mathcal{N}(0, I)$.\n",
    "- $f_\\theta$ is constructed to be a *diffeomorphism*.\n",
    "- Then $p(y)=\\left|\\mathrm{det}\\frac{\\partial f_{\\theta}}{\\partial f^{-1}(y)} \\right|^{-1}p(f^{-1}(y))$.\n",
    "- *Note*: Training a density requires onlu $f^{-1}$ be to efficiently computable since\n",
    "  $\\left|\\mathrm{det}\\frac{\\partial f_{\\theta}}{\\partial f^{-1}(y)} \\right|^{-1} = \\left|\\mathrm{det}\\frac{\\partial f_{\\theta}^{-1}}{\\partial y} \\right|$.\n",
    "\n",
    "---\n",
    "\n",
    "**Diffeomorphism**\n",
    "\n",
    "Bijection $f$ such that both, $f$ and $f^{-1}$ are differentiable.\n",
    "\n",
    "---"
   ]
  },
  {
   "cell_type": "markdown",
   "id": "d9e12fee",
   "metadata": {},
   "source": [
    "# Coupling Layers"
   ]
  },
  {
   "cell_type": "markdown",
   "id": "f93b4627",
   "metadata": {},
   "source": [
    "# Universality of Flow Models\n"
   ]
  },
  {
   "cell_type": "markdown",
   "id": "91cb8529",
   "metadata": {},
   "source": [
    "# Challenges for Verification Based Techniques"
   ]
  },
  {
   "cell_type": "markdown",
   "id": "4a9c46af",
   "metadata": {},
   "source": [
    "# A Generative Piece-wise Affine Density Estimator"
   ]
  },
  {
   "cell_type": "markdown",
   "id": "f5199602",
   "metadata": {},
   "source": [
    "# Beyond Adversial Repostness with Abstract Interpretations?"
   ]
  },
  {
   "cell_type": "markdown",
   "id": "38b8ff63",
   "metadata": {},
   "source": [
    "# Applications"
   ]
  },
  {
   "cell_type": "markdown",
   "id": "4c6a30ff",
   "metadata": {},
   "source": [
    "# Experiments"
   ]
  },
  {
   "cell_type": "markdown",
   "id": "6b47195d",
   "metadata": {},
   "source": [
    "# Further Research Directions"
   ]
  },
  {
   "cell_type": "code",
   "execution_count": null,
   "id": "f6cd6ed0",
   "metadata": {},
   "outputs": [],
   "source": []
  }
 ],
 "metadata": {
  "celltoolbar": "Slideshow",
  "kernelspec": {
   "display_name": "Python 3 (ipykernel)",
   "language": "python",
   "name": "python3"
  },
  "language_info": {
   "codemirror_mode": {
    "name": "ipython",
    "version": 3
   },
   "file_extension": ".py",
   "mimetype": "text/x-python",
   "name": "python",
   "nbconvert_exporter": "python",
   "pygments_lexer": "ipython3",
   "version": "3.11.3"
  }
 },
 "nbformat": 4,
 "nbformat_minor": 5
}
