{
  "cells": [
    {
      "cell_type": "code",
      "execution_count": null,
      "metadata": {
        "id": "T3ynd49xE3m-"
      },
      "outputs": [],
      "source": [
        "import torch\n",
        "\n",
        "from library import banknote_dataset\n",
        "from library import train_flow\n",
        "\n",
        "import numpy as np\n",
        "import pandas as pd\n",
        "import matplotlib.pyplot as plt\n",
        "\n",
        "plt.style.use('ggplot')\n",
        "DEVICE = 'cpu'\n",
        "DATA_DIM = 4"
      ]
    },
    {
      "cell_type": "code",
      "execution_count": null,
      "metadata": {
        "colab": {
          "base_uri": "https://localhost:8080/",
          "height": 363
        },
        "id": "uoBUvFSRFFbx",
        "outputId": "6f8dde70-b8c4-4e24-c88a-ff587a09ad9e"
      },
      "outputs": [],
      "source": [
        "col_names = ['Variance_WT', 'Skewness_WT', 'Curtosis_WT', 'Entropy', 'Class']\n",
        "pandas_data = pd.read_csv(\"https://raw.githubusercontent.com/tdishant/Banknote-Authentication/master/data_banknote_authentication_dataset.csv\", skiprows=1, header=None, names=col_names)\n",
        "pandas_data.head(10)"
      ]
    },
    {
      "cell_type": "markdown",
      "metadata": {
        "id": "FV_8t0cTG6Hp"
      },
      "source": [
        "![image.png](data:image/png;base64,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)"
      ]
    },
    {
      "cell_type": "code",
      "execution_count": null,
      "metadata": {
        "colab": {
          "base_uri": "https://localhost:8080/",
          "height": 391
        },
        "id": "E0mssS-rFuUJ",
        "outputId": "de7454bc-f852-40b3-f611-2607c05fa3f4"
      },
      "outputs": [],
      "source": [
        "from typing_extensions import dataclass_transform\n",
        "from sklearn.model_selection import train_test_split\n",
        "from sklearn.preprocessing import StandardScaler\n",
        "\n",
        "X = pandas_data.iloc[:,:-1].values\n",
        "y = pandas_data.iloc[:,-1:].values\n",
        "\n",
        "scaler = StandardScaler()\n",
        "X = scaler.fit_transform(X)\n",
        "\n",
        "#Training and Testing Set for classifier\n",
        "X_train, X_test, y_train, y_test = train_test_split(X, y, test_size=0.33, random_state=42)\n",
        "\n",
        "#Training and Testing Set for normalizing flow\n",
        "X_train_authentic = [X_train[i] for i in range(len(X_train)) if y_train[i]==0]\n",
        "X_train_inauthentic = [X_train[i] for i in range(len(X_train)) if y_train[i]==1]\n",
        "X_test_authentic = [X_test[i] for i in range(len(X_test)) if y_test[i]==0]\n",
        "X_test_inauthentic = [X_test[i] for i in range(len(X_test)) if y_test[i]==1]\n",
        "\n",
        "banknote_dataset.plotting_data(data_authentic=X_train_authentic, data_inauthentic=X_train_inauthentic)"
      ]
    },
    {
      "cell_type": "code",
      "execution_count": null,
      "metadata": {
        "id": "_RB3V9d6is7D"
      },
      "outputs": [],
      "source": [
        "from torch.distributions.normal import Normal\n",
        "\n",
        "# Create the standard normal distribution\n",
        "y_distribution = Normal(torch.zeros(DATA_DIM, device=DEVICE), torch.ones(DATA_DIM, device=DEVICE))\n",
        "\n",
        "distribution_sample = [y_distribution.sample().unsqueeze(0).data.cpu().numpy() for x in range(505)]\n",
        "\n",
        "if (0):\n",
        "  fig, (ax1, ax2) = plt.subplots(1, 2, figsize=(16, 6))\n",
        "  fig.suptitle(\"Example Labels in the Standard Normal Disribution\", fontsize=16)\n",
        "  ax1.scatter([item[0,0] for item in distribution_sample], [item[0,1] for item in distribution_sample])\n",
        "  ax2.scatter([item[0,2] for item in distribution_sample], [item[0,3] for item in distribution_sample])\n",
        "  plt.show()"
      ]
    },
    {
      "cell_type": "code",
      "execution_count": null,
      "metadata": {
        "colab": {
          "base_uri": "https://localhost:8080/"
        },
        "id": "I1jRtm9WjAfx",
        "outputId": "0f10ef2a-d6c8-4419-89d0-4f0a87bd2b9e"
      },
      "outputs": [],
      "source": [
        "import torch.nn as nn\n",
        "\n",
        "from torch.utils.data import DataLoader\n",
        "from tqdm import tqdm\n",
        "\n",
        "authentic_flow = train_flow.training(X_train_authentic, device=DEVICE, data_dim=DATA_DIM, y_distribution=y_distribution)\n",
        "inauthentic_flow = train_flow.training(X_train_inauthentic, device=DEVICE, data_dim=DATA_DIM, y_distribution=y_distribution)"
      ]
    },
    {
      "cell_type": "code",
      "execution_count": null,
      "metadata": {
        "colab": {
          "base_uri": "https://localhost:8080/",
          "height": 393
        },
        "id": "qBZTJBCMBTUx",
        "outputId": "72f19bd0-fc05-4746-9751-a40e1ac2f907"
      },
      "outputs": [],
      "source": [
        "banknote_dataset.plotting_data(data_authentic=X_test_authentic, data_inauthentic=X_test_inauthentic)"
      ]
    },
    {
      "cell_type": "code",
      "execution_count": null,
      "metadata": {
        "colab": {
          "base_uri": "https://localhost:8080/",
          "height": 392
        },
        "id": "f2Xk-85m_y2B",
        "outputId": "a3cda0da-f706-49b9-c8ed-84cb5b136aef"
      },
      "outputs": [],
      "source": [
        "res_auth, jac_auth = authentic_flow.forward(torch.tensor(np.float32(X_test_authentic), device=DEVICE))\n",
        "res_auth = res_auth.data.cpu().numpy()\n",
        "\n",
        "res_inauth, jac_inauth = inauthentic_flow.forward(torch.tensor(np.float32(X_test_inauthentic), device=DEVICE))\n",
        "res_inauth = res_inauth.data.cpu().numpy()\n",
        "\n",
        "banknote_dataset.plotting_data(data_authentic=res_auth, data_inauthentic=res_inauth)"
      ]
    },
    {
      "cell_type": "code",
      "execution_count": null,
      "metadata": {
        "colab": {
          "base_uri": "https://localhost:8080/",
          "height": 391
        },
        "id": "ZO-VSCzrkKLY",
        "outputId": "47eb01a1-09cd-4e1f-a456-67fae9b5a5bb"
      },
      "outputs": [],
      "source": [
        "from scipy.stats import norm\n",
        "\n",
        "full_prob_list_authentic = []\n",
        "for result in res_auth:\n",
        "  prob_list = []\n",
        "  for prop in result:\n",
        "    prob_list.append(norm.pdf(prop))\n",
        "  full_prob_list_authentic.append(prob_list)\n",
        "\n",
        "full_prob_list_inauthentic = []\n",
        "for result in res_inauth:\n",
        "  prob_list = []\n",
        "  for prop in result:\n",
        "    prob_list.append(norm.pdf(prop))\n",
        "  full_prob_list_inauthentic.append(prob_list)\n",
        "\n",
        "banknote_dataset.plotting_data(data_authentic=full_prob_list_authentic, data_inauthentic=full_prob_list_inauthentic)"
      ]
    },
    {
      "cell_type": "code",
      "execution_count": null,
      "metadata": {
        "colab": {
          "base_uri": "https://localhost:8080/",
          "height": 392
        },
        "id": "u3ayjhuPB62P",
        "outputId": "eb4248f0-f009-4c27-b905-9c1a20e08536"
      },
      "outputs": [],
      "source": [
        "inverted_authentic = authentic_flow.invert(torch.tensor(np.float32(full_prob_list_authentic), device=DEVICE))\n",
        "inverted_authentic = inverted_authentic.data.cpu().numpy()\n",
        "inverted_inauthentic = inauthentic_flow.invert(torch.tensor(np.float32(full_prob_list_inauthentic), device=DEVICE))\n",
        "inverted_inauthentic = inverted_inauthentic.data.cpu().numpy()\n",
        "\n",
        "banknote_dataset.plotting_data(data_authentic=inverted_authentic, data_inauthentic=inverted_inauthentic)"
      ]
    },
    {
      "cell_type": "code",
      "execution_count": null,
      "metadata": {
        "colab": {
          "base_uri": "https://localhost:8080/",
          "height": 391
        },
        "id": "egUtrAWJEfvx",
        "outputId": "62ee566c-fbed-4bd0-b378-0e09e82b066a"
      },
      "outputs": [],
      "source": [
        "PERCENT_CUT_AUTHENTIC = 0.9\n",
        "PERCENT_CUT_INAUTHENTIC = 0.9\n",
        "\n",
        "inverted_sum_authentic = [np.min(a) for a in inverted_authentic]\n",
        "prob_sum_pairs_authentic = [(inverted_sum_authentic[i], X_test_authentic[i]) for i in range(len(inverted_sum_authentic))]\n",
        "inverted_sum_inauthentic = [np.min(a) for a in inverted_inauthentic]\n",
        "prob_sum_pairs_inauthentic = [(inverted_sum_inauthentic[i], X_test_inauthentic[i]) for i in range(len(inverted_sum_inauthentic))]\n",
        "\n",
        "prob_sum_pairs_authentic.sort(key=lambda x: x[0])\n",
        "cut = int(PERCENT_CUT_AUTHENTIC * len(inverted_sum_authentic))\n",
        "prob_sum_pairs_authentic_cut = prob_sum_pairs_authentic[:cut]\n",
        "prob_sum_pairs_authentic_rest = prob_sum_pairs_authentic[cut:]\n",
        "prob_sum_pairs_inauthentic.sort(key=lambda x: x[0])\n",
        "cut = int(PERCENT_CUT_INAUTHENTIC * len(inverted_sum_inauthentic))\n",
        "prob_sum_pairs_inauthentic_cut = prob_sum_pairs_inauthentic[:cut]\n",
        "prob_sum_pairs_inauthentic_rest = prob_sum_pairs_inauthentic[cut:]\n",
        "\n",
        "cut_list_authentic = [a[1] for a in prob_sum_pairs_authentic_cut]\n",
        "rest_list_authentic = [a[1] for a in prob_sum_pairs_authentic_rest]\n",
        "cut_list_inauthentic = [a[1] for a in prob_sum_pairs_inauthentic_cut]\n",
        "rest_list_inauthentic = [a[1] for a in prob_sum_pairs_inauthentic_rest]\n",
        "banknote_dataset.plotting_data(data_authentic=cut_list_authentic, data_inauthentic=cut_list_inauthentic)"
      ]
    },
    {
      "cell_type": "code",
      "execution_count": null,
      "metadata": {
        "colab": {
          "base_uri": "https://localhost:8080/",
          "height": 1000
        },
        "id": "iD_Ly2Kt499P",
        "outputId": "ac468dc5-7815-4d73-fc5e-b557b834f1da"
      },
      "outputs": [],
      "source": [
        "banknote_dataset.plotting_data(data_authentic=X_test_authentic, data_inauthentic=X_test_inauthentic)\n",
        "banknote_dataset.plotting_data(data_authentic=cut_list_authentic, data_inauthentic=cut_list_inauthentic)\n",
        "banknote_dataset.plotting_data(data_authentic=rest_list_authentic, data_inauthentic=rest_list_inauthentic)"
      ]
    },
    {
      "cell_type": "code",
      "execution_count": null,
      "metadata": {
        "colab": {
          "base_uri": "https://localhost:8080/"
        },
        "id": "tsIcv9cWGDBY",
        "outputId": "a51f96d2-8eeb-4cc8-bd9e-5f16cf83c234"
      },
      "outputs": [],
      "source": [
        "import torch.nn as nn\n",
        "import torch.optim as optim\n",
        "\n",
        "from torch.utils.data import TensorDataset, DataLoader\n",
        "from torch import tanh, sigmoid\n",
        "from tqdm import tqdm\n",
        "\n",
        "class Net(nn.Module):\n",
        "  def __init__(self):\n",
        "    super(Net, self).__init__()\n",
        "    self.hid1 = nn.Linear(4, 8)  # 4-(8-8)-1\n",
        "    self.hid2 = nn.Linear(8, 8)\n",
        "    self.oupt = nn.Linear(8, 1)\n",
        "\n",
        "    nn.init.xavier_uniform_(self.hid1.weight)\n",
        "    nn.init.zeros_(self.hid1.bias)\n",
        "    nn.init.xavier_uniform_(self.hid2.weight)\n",
        "    nn.init.zeros_(self.hid2.bias)\n",
        "    nn.init.xavier_uniform_(self.oupt.weight)\n",
        "    nn.init.zeros_(self.oupt.bias)\n",
        "\n",
        "  def forward(self, x):\n",
        "    z = tanh(self.hid1(x)) \n",
        "    z = tanh(self.hid2(z))\n",
        "    z = sigmoid(self.oupt(z))\n",
        "    return z\n",
        "\n",
        "EPOCHS = 50\n",
        "BATCH_SIZE = 64\n",
        "LEARNING_RATE = 0.001\n",
        "\n",
        "tensor_x = torch.Tensor(X_train)\n",
        "tensor_y = torch.Tensor(y_train)\n",
        "\n",
        "dataset = TensorDataset(tensor_x,tensor_y)\n",
        "\n",
        "training_loss = []\n",
        "\n",
        "classifier = Net().to(DEVICE)\n",
        "criterion = nn.BCEWithLogitsLoss()\n",
        "optimizer = optim.Adam(classifier.parameters(), lr=LEARNING_RATE)\n",
        "dataloader = DataLoader(dataset, batch_size=32, shuffle=True)\n",
        "\n",
        "classifier.train()\n",
        "\n",
        "# Compute prediction error\n",
        "pred = classifier(tensor_x.to(DEVICE))\n",
        "loss = criterion(pred, tensor_y.to(DEVICE))\n",
        "\n",
        "# Backpropagation\n",
        "optimizer.zero_grad()\n",
        "loss.backward()\n",
        "optimizer.step()\n",
        "loss = loss.item()\n",
        "\n",
        "print(\"acc: \" + str(loss))"
      ]
    }
  ],
  "metadata": {
    "accelerator": "GPU",
    "colab": {
      "provenance": []
    },
    "gpuClass": "standard",
    "kernelspec": {
      "display_name": "Python 3.10.6 ('venv': venv)",
      "language": "python",
      "name": "python3"
    },
    "language_info": {
      "codemirror_mode": {
        "name": "ipython",
        "version": 3
      },
      "file_extension": ".py",
      "mimetype": "text/x-python",
      "name": "python",
      "nbconvert_exporter": "python",
      "pygments_lexer": "ipython3",
      "version": "3.10.6"
    },
    "vscode": {
      "interpreter": {
        "hash": "69503f0283671b7b4e4f4cd19328c16b66bf831f7cc2d209c017670412e93b9c"
      }
    }
  },
  "nbformat": 4,
  "nbformat_minor": 0
}
